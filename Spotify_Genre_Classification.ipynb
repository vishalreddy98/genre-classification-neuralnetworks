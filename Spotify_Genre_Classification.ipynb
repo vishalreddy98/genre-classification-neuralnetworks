{
  "cells": [
    {
      "cell_type": "markdown",
      "source": [
        "# **Statistical Learning Assignment - 4**\n",
        "\n",
        "**Team Members**:\n",
        "\n",
        "Prashanth Aripirala(PA500)\n",
        "\n",
        "Rohit Macherla(RM1667)\n",
        "\n",
        "Vishal Reddy Mekala(VM574)\n",
        "\n",
        "#### **Contribution** -\n",
        "This project is a collective effort from everyone in the team, but each one of us focused on one part primary aspect of this project as mentioned below:\n",
        "\n",
        "**Rohit Macherla** : Neural Network Architecture definition,training and evaluation.\n",
        "\n",
        "**Prashanth Aripirala** : Conformal Score calculation and prediction sets generation.\n",
        "\n",
        "**Vishal Reddy Mekala** : Variable exclusion test using Hypothesis Testing for Feature selection."
      ],
      "metadata": {
        "id": "hKzvTbSIyUg2"
      },
      "id": "hKzvTbSIyUg2"
    },
    {
      "cell_type": "markdown",
      "id": "ec128d74",
      "metadata": {
        "id": "ec128d74"
      },
      "source": [
        "### Import Libraries"
      ]
    },
    {
      "cell_type": "code",
      "execution_count": 1,
      "id": "e9ddb25e",
      "metadata": {
        "id": "e9ddb25e"
      },
      "outputs": [],
      "source": [
        "import numpy as np\n",
        "import pandas as pd\n",
        "import matplotlib.pyplot as plt\n",
        "from sklearn import linear_model\n",
        "import torch\n",
        "import torch.nn as nn\n",
        "import torch.nn.functional as F\n",
        "from torch import optim\n",
        "from torch.utils.data import TensorDataset, DataLoader\n",
        "from sklearn.preprocessing import StandardScaler, LabelEncoder\n",
        "from sklearn.feature_extraction.text import TfidfVectorizer\n",
        "from sklearn.model_selection import train_test_split\n",
        "import warnings\n",
        "from sklearn.preprocessing import LabelEncoder, OneHotEncoder\n",
        "warnings.filterwarnings('ignore')"
      ]
    },
    {
      "cell_type": "markdown",
      "id": "31d8d93a",
      "metadata": {
        "id": "31d8d93a"
      },
      "source": [
        "### Import Data and pre-process"
      ]
    },
    {
      "cell_type": "code",
      "execution_count": 2,
      "id": "b93c850d",
      "metadata": {
        "id": "b93c850d"
      },
      "outputs": [],
      "source": [
        "spotify = pd.read_csv('https://raw.githubusercontent.com/rfordatascience/tidytuesday/master/data/2020/2020-01-21/spotify_songs.csv')\n",
        "spotify = spotify.dropna()"
      ]
    },
    {
      "cell_type": "code",
      "execution_count": 3,
      "id": "e771fc33",
      "metadata": {
        "id": "e771fc33"
      },
      "outputs": [],
      "source": [
        "X = spotify[['track_popularity','danceability', 'energy', 'key', 'loudness', 'mode', 'speechiness', 'acousticness', 'instrumentalness', 'liveness', 'valence', 'tempo', 'duration_ms']]\n",
        "y = spotify['playlist_genre']\n",
        "text_data = spotify['playlist_name']"
      ]
    },
    {
      "cell_type": "code",
      "source": [
        "#TF-IDF Vectorization for text column(playlist_name)\n",
        "vectorizer = TfidfVectorizer()\n",
        "text_features = vectorizer.fit_transform(text_data).toarray()\n",
        "text_tensor = torch.tensor(text_features, dtype=torch.float32)"
      ],
      "metadata": {
        "id": "mvJABIu3Y8G8"
      },
      "id": "mvJABIu3Y8G8",
      "execution_count": 4,
      "outputs": []
    },
    {
      "cell_type": "code",
      "source": [
        "label_encoder = LabelEncoder()\n",
        "y_encoded = label_encoder.fit_transform(y)\n",
        "one_hot_encoder = OneHotEncoder(sparse=False)\n",
        "y_encoded = y_encoded.reshape(len(y_encoded), 1)\n",
        "y_onehot = one_hot_encoder.fit_transform(y_encoded)\n",
        "\n",
        "scaler = StandardScaler()\n",
        "X = scaler.fit_transform(X)\n",
        "\n",
        "\n",
        "X = torch.tensor(X, dtype=torch.float)\n",
        "y = torch.tensor(y_onehot, dtype=torch.float)\n",
        "\n",
        "X = torch.cat([text_tensor, X], dim=1) #Combining text and numerical features\n",
        "X_train, X_test, y_train, y_test = train_test_split(X, y, test_size=0.2, random_state=42)"
      ],
      "metadata": {
        "id": "ySMo6eGEZDJ-"
      },
      "id": "ySMo6eGEZDJ-",
      "execution_count": 5,
      "outputs": []
    },
    {
      "cell_type": "code",
      "execution_count": 6,
      "id": "a52e862d",
      "metadata": {
        "id": "a52e862d"
      },
      "outputs": [],
      "source": [
        "# splitting train data into d1 and d2 for conformal prediction\n",
        "\n",
        "X_train1 = X_train[:20000]\n",
        "y_train1 = y_train[:20000]\n",
        "\n",
        "X_train2 = X_train[20000:]\n",
        "y_train2 = y_train[20000:]\n",
        "\n",
        "# creating inputs for training the neural networks\n",
        "train_data1 = TensorDataset(X_train1, y_train1)\n",
        "train_loader1 = DataLoader(dataset=train_data1, batch_size=32, shuffle=True)"
      ]
    },
    {
      "cell_type": "markdown",
      "source": [
        "### **Neural Network Architecture**\n",
        "\n",
        "We've constructed a neural network named SpotifyNet for a specific task, likely related to music classification on Spotify. The network has three hidden layers with 256 units in each followed by batch normalization to improve training stability and ReLU activation functions to introduce non-linearity. The final layer utilizes softmax activation to produce probabilities for multiple classes.\n",
        "\n",
        "When we feed input data through this network using the forward method, it generates predictions in the form of probabilities for each class. To train the network, we've defined a loss function (loss_fn) based on cross entropy and used Adam with weight decay as the optimizer."
      ],
      "metadata": {
        "id": "RSrfvDxukQot"
      },
      "id": "RSrfvDxukQot"
    },
    {
      "cell_type": "code",
      "execution_count": 7,
      "id": "e91a73cd",
      "metadata": {
        "id": "e91a73cd"
      },
      "outputs": [],
      "source": [
        "class SpotifyNet(nn.Module):\n",
        "    def __init__(self, input_size, hidden_size, output_size):\n",
        "        super(SpotifyNet, self).__init__()\n",
        "\n",
        "        self.layers = nn.Sequential(\n",
        "            nn.Linear(input_size, hidden_size[0]),\n",
        "            nn.BatchNorm1d(hidden_size[0]),\n",
        "            nn.ReLU(),\n",
        "            nn.Linear(hidden_size[0], hidden_size[1]),\n",
        "            nn.BatchNorm1d(hidden_size[1]),\n",
        "            nn.ReLU(),\n",
        "            nn.Linear(hidden_size[1], hidden_size[2]),\n",
        "            nn.BatchNorm1d(hidden_size[2]),\n",
        "            nn.ReLU(),\n",
        "            nn.Linear(hidden_size[2], output_size),\n",
        "            nn.Softmax()\n",
        "        )\n",
        "\n",
        "    def forward(self, x):\n",
        "        prob = self.layers(x)\n",
        "        return prob\n",
        "\n",
        "    def loss_fn(self, y, y_pred):\n",
        "        loss = F.cross_entropy(y_pred, y)\n",
        "        return loss"
      ]
    },
    {
      "cell_type": "code",
      "execution_count": 8,
      "id": "50e14ba9",
      "metadata": {
        "id": "50e14ba9"
      },
      "outputs": [],
      "source": [
        "# Instantiate the model\n",
        "\n",
        "input_size = X_train1.shape[1]\n",
        "output_size = len(spotify['playlist_genre'].unique())\n",
        "hidden_size = [256, 256, 256]\n",
        "model = SpotifyNet(input_size, hidden_size, output_size)"
      ]
    },
    {
      "cell_type": "code",
      "execution_count": 9,
      "id": "98bca923",
      "metadata": {
        "colab": {
          "base_uri": "https://localhost:8080/"
        },
        "id": "98bca923",
        "outputId": "5b9704af-96ce-45d9-a11b-2e04d8ae45c5"
      },
      "outputs": [
        {
          "output_type": "stream",
          "name": "stdout",
          "text": [
            "epoch:  0 loss: 1.08\n",
            "epoch:  10 loss: 1.08\n",
            "epoch:  20 loss: 1.05\n",
            "epoch:  30 loss: 1.04\n",
            "epoch:  40 loss: 1.07\n"
          ]
        }
      ],
      "source": [
        "lr = 0.0001\n",
        "epochs = 50\n",
        "\n",
        "optimizer = optim.AdamW(model.parameters(), lr=lr)\n",
        "\n",
        "model.train()\n",
        "training_loss = []\n",
        "for epoch in range(epochs):\n",
        "\n",
        "    for x_batch, y_batch in train_loader1:\n",
        "        y_pred = model(x_batch)\n",
        "\n",
        "        loss = model.loss_fn(y_batch, y_pred)\n",
        "\n",
        "        optimizer.zero_grad()\n",
        "        loss.backward()\n",
        "        optimizer.step()\n",
        "    training_loss.append(loss.item())\n",
        "\n",
        "    if epoch % 10 == 0:\n",
        "        print('epoch: ', epoch, 'loss:', f\"{loss.item():.3}\")"
      ]
    },
    {
      "cell_type": "code",
      "source": [
        "from google.colab import drive\n",
        "drive.mount('/content/drive')"
      ],
      "metadata": {
        "colab": {
          "base_uri": "https://localhost:8080/"
        },
        "id": "Y6J-TF2pdW30",
        "outputId": "ff6afce1-1ad3-48a3-b741-57a6f601eb7e"
      },
      "id": "Y6J-TF2pdW30",
      "execution_count": 10,
      "outputs": [
        {
          "output_type": "stream",
          "name": "stdout",
          "text": [
            "Mounted at /content/drive\n"
          ]
        }
      ]
    },
    {
      "cell_type": "code",
      "source": [
        "torch.save(model.state_dict(), '/content/drive/MyDrive/spotify-model-final.h5')"
      ],
      "metadata": {
        "id": "ZHg5qjB-dSdQ"
      },
      "id": "ZHg5qjB-dSdQ",
      "execution_count": 11,
      "outputs": []
    },
    {
      "cell_type": "code",
      "execution_count": 12,
      "id": "31e5174f",
      "metadata": {
        "id": "31e5174f"
      },
      "outputs": [],
      "source": [
        "import matplotlib.pyplot as plt\n",
        "%matplotlib inline"
      ]
    },
    {
      "cell_type": "code",
      "execution_count": 13,
      "id": "5781c9e2",
      "metadata": {
        "colab": {
          "base_uri": "https://localhost:8080/",
          "height": 472
        },
        "id": "5781c9e2",
        "outputId": "d352d228-7f72-4905-8643-3b66b0b39cb8"
      },
      "outputs": [
        {
          "output_type": "display_data",
          "data": {
            "text/plain": [
              "<Figure size 640x480 with 1 Axes>"
            ],
            "image/png": "[encoded data removed]"
          },
          "metadata": {}
        }
      ],
      "source": [
        "# plotting the train loss\n",
        "plt.plot(training_loss, label='Training Loss')\n",
        "plt.xlabel('Training Steps')\n",
        "plt.ylabel('Loss')\n",
        "plt.title('Training Loss Over Time')\n",
        "plt.legend()\n",
        "plt.show()"
      ]
    },
    {
      "cell_type": "code",
      "execution_count": 14,
      "id": "e8d12898",
      "metadata": {
        "id": "e8d12898"
      },
      "outputs": [],
      "source": [
        "# torch.save(model.state_dict(), 'spotify-model.h5')"
      ]
    },
    {
      "cell_type": "code",
      "execution_count": 15,
      "id": "1d2e195e",
      "metadata": {
        "colab": {
          "base_uri": "https://localhost:8080/"
        },
        "id": "1d2e195e",
        "outputId": "fb296586-cbc8-463f-ed71-6e4d08e64d1b"
      },
      "outputs": [
        {
          "output_type": "stream",
          "name": "stdout",
          "text": [
            "Accuracy: 99.10%\n",
            "\n",
            "Classification Report:\n",
            "              precision    recall  f1-score   support\n",
            "\n",
            "           0       0.99      0.99      0.99      1229\n",
            "           1       0.99      1.00      1.00       983\n",
            "           2       0.98      0.99      0.98      1079\n",
            "           3       0.98      0.97      0.97      1075\n",
            "           4       1.00      1.00      1.00      1160\n",
            "           5       1.00      1.00      1.00      1040\n",
            "\n",
            "    accuracy                           0.99      6566\n",
            "   macro avg       0.99      0.99      0.99      6566\n",
            "weighted avg       0.99      0.99      0.99      6566\n",
            "\n"
          ]
        }
      ],
      "source": [
        "model.eval()\n",
        "with torch.no_grad():\n",
        "    y_pred = model(X_test)\n",
        "\n",
        "_, predicted_labels = torch.max(y_pred, 1)\n",
        "\n",
        "predicted_labels = predicted_labels.numpy()\n",
        "y_true = np.argmax(y_test.numpy(), axis=1)\n",
        "\n",
        "accuracy = np.mean(predicted_labels == y_true)\n",
        "print(f'Accuracy: {accuracy * 100:.2f}%')\n",
        "\n",
        "from sklearn.metrics import classification_report\n",
        "print('\\nClassification Report:')\n",
        "print(classification_report(y_true, predicted_labels))"
      ]
    },
    {
      "cell_type": "code",
      "execution_count": 16,
      "id": "952a5a9e",
      "metadata": {
        "id": "952a5a9e"
      },
      "outputs": [],
      "source": [
        "genres_to_predict = spotify['playlist_genre'].unique()"
      ]
    },
    {
      "cell_type": "code",
      "execution_count": 17,
      "id": "46cda96e",
      "metadata": {
        "colab": {
          "base_uri": "https://localhost:8080/",
          "height": 465
        },
        "id": "46cda96e",
        "outputId": "3e1b4125-536f-43ea-e6de-af3c2c88318c"
      },
      "outputs": [
        {
          "output_type": "display_data",
          "data": {
            "text/plain": [
              "<Figure size 500x500 with 1 Axes>"
            ],
            "image/png": "[encoded data removed]"
          },
          "metadata": {}
        }
      ],
      "source": [
        "import seaborn as sns\n",
        "from sklearn.metrics import confusion_matrix\n",
        "conf_mat = confusion_matrix(y_true, predicted_labels)\n",
        "\n",
        "plt.figure(figsize=(5,5))\n",
        "sns.heatmap(conf_mat.T, square=True, annot=True, fmt='d', cbar=False,\n",
        "            xticklabels=set(genres_to_predict), yticklabels=set(genres_to_predict))\n",
        "plt.xlabel('true label')\n",
        "plt.ylabel('predicted label');"
      ]
    },
    {
      "cell_type": "markdown",
      "source": [
        "## **Conformal Prediction**"
      ],
      "metadata": {
        "id": "wYCY3Dj8cYic"
      },
      "id": "wYCY3Dj8cYic"
    },
    {
      "cell_type": "markdown",
      "source": [
        "### **Logic for ComputeScore Function**\n",
        "\n",
        "We first compute conformity scores and then subtract it from 1 to get a non-conformity score.\n",
        "\n",
        "We initialize the score with zero. For the true class label we add the softmax probability to the score and negative of softmax probabilities for the remaining class labels. We take mean of the score to normalize it such that correct prediction have less non-conformity score and incorrect ones have higher scores\n"
      ],
      "metadata": {
        "id": "PBIKGBYbgurr"
      },
      "id": "PBIKGBYbgurr"
    },
    {
      "cell_type": "code",
      "execution_count": 18,
      "id": "53aab9c6",
      "metadata": {
        "id": "53aab9c6"
      },
      "outputs": [],
      "source": [
        "def computeProbability(sequence, probs):\n",
        "    return(np.prod([probs[i] if sequence[i] == 1 else 1 - probs[i] for i in range(len(sequence))]))\n",
        "\n",
        "def computeScore(my_outcome, probs):\n",
        "    non_conformity_score = 0\n",
        "    for i in range(len(my_outcome)):\n",
        "        if my_outcome[i] == 1:\n",
        "            non_conformity_score += probs[i]\n",
        "        else:\n",
        "            non_conformity_score += -probs[i]\n",
        "    return 1-(non_conformity_score / len(probs))\n",
        "\n",
        "def computeConformalSet(probs, scores, alpha):\n",
        "\n",
        "    threshold = np.quantile(scores, (1 - alpha)*(n+1)/n)\n",
        "\n",
        "    all_outcomes = list(itertools.product([0,1], repeat=len(probs)))\n",
        "    sorted_outcomes = sorted(all_outcomes, key=lambda x: computeProbability(x, probs), reverse=True)\n",
        "\n",
        "    sorted_probs = [computeProbability(outcome, probs) for outcome in sorted_outcomes]\n",
        "    cumulative_probs = np.cumsum(sorted_probs)\n",
        "\n",
        "    conformal_ix = np.where(cumulative_probs > threshold)[0][0]\n",
        "    conformal_prediction_set = sorted_outcomes[:conformal_ix+1]\n",
        "\n",
        "\n",
        "    return(conformal_prediction_set)\n",
        "\n",
        "def confGenreSet(conf_set, genres_to_predict):\n",
        "\n",
        "    confsets = [[genres_to_predict[i] for i in range(len(conf_set[k]))\n",
        "        if conf_set[k][i] == 1] for k in range(len(conf_set))]\n",
        "\n",
        "    confsets = [item for item in confsets if len(item)>0]\n",
        "    return confsets"
      ]
    },
    {
      "cell_type": "code",
      "execution_count": 19,
      "id": "1298fc71",
      "metadata": {
        "id": "1298fc71"
      },
      "outputs": [],
      "source": [
        "#Generating Prediction for holdout data D2\n",
        "model.eval()\n",
        "with torch.no_grad():\n",
        "    y_pred = model(X_train2)"
      ]
    },
    {
      "cell_type": "code",
      "execution_count": 20,
      "id": "7eaa6e22",
      "metadata": {
        "id": "7eaa6e22"
      },
      "outputs": [],
      "source": [
        "#Calculating Non-conformity scores using generated predictions and true genres\n",
        "scores = np.zeros(len(y_train2))\n",
        "for i in range(len(y_train2)):\n",
        "    scores[i] = computeScore(y_train2[i], y_pred[i])"
      ]
    },
    {
      "cell_type": "code",
      "execution_count": 21,
      "id": "36531803",
      "metadata": {
        "colab": {
          "base_uri": "https://localhost:8080/"
        },
        "id": "36531803",
        "outputId": "a7e160bf-b79d-4fe7-fee3-b3bbed75ca48"
      },
      "outputs": [
        {
          "output_type": "stream",
          "name": "stdout",
          "text": [
            "Adjusted threshold:  0.8333334922790527\n"
          ]
        }
      ],
      "source": [
        "#Calculating the Adjusted threshold based on the distribution of scores\n",
        "alpha = 0.2\n",
        "n = len(scores)\n",
        "print(\"Adjusted threshold: \", np.quantile(scores, (1 - alpha)*(n+1)/n))"
      ]
    },
    {
      "cell_type": "code",
      "execution_count": 64,
      "id": "513a3b47",
      "metadata": {
        "colab": {
          "base_uri": "https://localhost:8080/"
        },
        "id": "513a3b47",
        "outputId": "d004875b-e0bf-46d9-b800-c68eb29ee464"
      },
      "outputs": [
        {
          "output_type": "stream",
          "name": "stdout",
          "text": [
            "Percentage of times true value is covered: 98.85%\n"
          ]
        }
      ],
      "source": [
        "#Calculating the coverage percentage on holdout data D2\n",
        "import itertools\n",
        "\n",
        "correct_covered_count=0\n",
        "for i in range(len(y_train2)):\n",
        "    conformal_set = computeConformalSet(y_pred[i], scores, alpha)\n",
        "    conf_genres = confGenreSet(conformal_set, genres_to_predict)\n",
        "    unique_genres_set = set(genre for sublist in conf_genres for genre in sublist)\n",
        "    true_label = genres_to_predict[y_train2[i].argmax()]\n",
        "\n",
        "    if true_label in unique_genres_set:\n",
        "        correct_covered_count += 1\n",
        "\n",
        "percentage_correct_covered = (correct_covered_count / len(y_train2)) * 100\n",
        "print(f\"Percentage of times true value is covered: {percentage_correct_covered:.2f}%\")"
      ]
    },
    {
      "cell_type": "code",
      "execution_count": 67,
      "id": "0b8b0e1b",
      "metadata": {
        "colab": {
          "base_uri": "https://localhost:8080/"
        },
        "id": "0b8b0e1b",
        "outputId": "3296b5cf-03bb-46e0-9f0f-2bee15927626"
      },
      "outputs": [
        {
          "output_type": "stream",
          "name": "stdout",
          "text": [
            "Conformal Prediction Set:\n",
            "[['latin'], ['pop', 'latin']]\n",
            "pop\n"
          ]
        }
      ],
      "source": [
        "# Generating Conformal predictions on a random data point.\n",
        "conformal_set = computeConformalSet(y_pred[441], scores, alpha)\n",
        "\n",
        "print(\"Conformal Prediction Set:\")\n",
        "conf_genres = confGenreSet(conformal_set, genres_to_predict)\n",
        "\n",
        "print(conf_genres)\n",
        "print(genres_to_predict[y_test[441].argmax()])"
      ]
    },
    {
      "cell_type": "markdown",
      "id": "2bc85d39",
      "metadata": {
        "id": "2bc85d39"
      },
      "source": [
        "### **Hypothesis Testing - Variable Exclusion Test**\n",
        "\n",
        "We opted for this technique to check significance of adding one particular variable to the model in predicting conditional expectation of Y(playlist_genre). The same test can be done for all other variables or combination of different variables. For illustration, we perform the test on one variable(track_popularity).\n"
      ]
    },
    {
      "cell_type": "code",
      "execution_count": 69,
      "id": "4c489618",
      "metadata": {
        "colab": {
          "base_uri": "https://localhost:8080/",
          "height": 860
        },
        "id": "4c489618",
        "outputId": "2e21f9db-739a-4d5b-dcbc-671353cc5c33"
      },
      "outputs": [
        {
          "output_type": "execute_result",
          "data": {
            "text/plain": [
              "                     track_id  \\\n",
              "0      6f807x0ima9a1j3VPbc7VN   \n",
              "1      0r7CVbZTWZgbTCYdfa2P31   \n",
              "2      1z1Hg7Vb0AhHDiEmnDE79l   \n",
              "3      75FpbthrwQmzHlBJLuGdC7   \n",
              "4      1e8PAfcKUYoKkxPhrHqw4x   \n",
              "...                       ...   \n",
              "32823  7bxnKAamR3snQ1VGLuVfC1   \n",
              "32824  5Aevni09Em4575077nkWHz   \n",
              "32825  7ImMqPP3Q1yfUHvsdn7wEo   \n",
              "32826  2m69mhnfQ1Oq6lGtXuYhgX   \n",
              "32827  29zWqhca3zt5NsckZqDf6c   \n",
              "\n",
              "                                              track_name      track_artist  \\\n",
              "0      I Don't Care (with Justin Bieber) - Loud Luxur...        Ed Sheeran   \n",
              "1                        Memories - Dillon Francis Remix          Maroon 5   \n",
              "2                        All the Time - Don Diablo Remix      Zara Larsson   \n",
              "3                      Call You Mine - Keanu Silva Remix  The Chainsmokers   \n",
              "4                Someone You Loved - Future Humans Remix     Lewis Capaldi   \n",
              "...                                                  ...               ...   \n",
              "32823               City Of Lights - Official Radio Edit      Lush & Simon   \n",
              "32824                Closer - Sultan & Ned Shepard Remix    Tegan and Sara   \n",
              "32825                       Sweet Surrender - Radio Edit       Starkillers   \n",
              "32826                     Only For You - Maor Levi Remix            Mat Zo   \n",
              "32827                             Typhoon - Original Mix      Julian Calor   \n",
              "\n",
              "       track_popularity          track_album_id  \\\n",
              "0                    66  2oCs0DGTsRO98Gh5ZSl2Cx   \n",
              "1                    67  63rPSO264uRjW1X5E6cWv6   \n",
              "2                    70  1HoSmj2eLcsrR0vE9gThr4   \n",
              "3                    60  1nqYsOef1yKKuGOVchbsk6   \n",
              "4                    69  7m7vv9wlQ4i0LFuJiE2zsQ   \n",
              "...                 ...                     ...   \n",
              "32823                42  2azRoBBWEEEYhqV6sb7JrT   \n",
              "32824                20  6kD6KLxj7s8eCE3ABvAyf5   \n",
              "32825                14  0ltWNSY9JgxoIZO4VzuCa6   \n",
              "32826                15  1fGrOkHnHJcStl14zNx8Jy   \n",
              "32827                27  0X3mUOm6MhxR7PzxG95rAo   \n",
              "\n",
              "                                        track_album_name  \\\n",
              "0      I Don't Care (with Justin Bieber) [Loud Luxury...   \n",
              "1                        Memories (Dillon Francis Remix)   \n",
              "2                        All the Time (Don Diablo Remix)   \n",
              "3                            Call You Mine - The Remixes   \n",
              "4                Someone You Loved (Future Humans Remix)   \n",
              "...                                                  ...   \n",
              "32823                         City Of Lights (Vocal Mix)   \n",
              "32824                                     Closer Remixed   \n",
              "32825                       Sweet Surrender (Radio Edit)   \n",
              "32826                             Only For You (Remixes)   \n",
              "32827                                      Typhoon/Storm   \n",
              "\n",
              "      track_album_release_date    playlist_name             playlist_id  \\\n",
              "0                   2019-06-14        Pop Remix  37i9dQZF1DXcZDD7cfEKhW   \n",
              "1                   2019-12-13        Pop Remix  37i9dQZF1DXcZDD7cfEKhW   \n",
              "2                   2019-07-05        Pop Remix  37i9dQZF1DXcZDD7cfEKhW   \n",
              "3                   2019-07-19        Pop Remix  37i9dQZF1DXcZDD7cfEKhW   \n",
              "4                   2019-03-05        Pop Remix  37i9dQZF1DXcZDD7cfEKhW   \n",
              "...                        ...              ...                     ...   \n",
              "32823               2014-04-28  ♥ EDM LOVE 2020  6jI1gFr6ANFtT8MmTvA2Ux   \n",
              "32824               2013-03-08  ♥ EDM LOVE 2020  6jI1gFr6ANFtT8MmTvA2Ux   \n",
              "32825               2014-04-21  ♥ EDM LOVE 2020  6jI1gFr6ANFtT8MmTvA2Ux   \n",
              "32826               2014-01-01  ♥ EDM LOVE 2020  6jI1gFr6ANFtT8MmTvA2Ux   \n",
              "32827               2014-03-03  ♥ EDM LOVE 2020  6jI1gFr6ANFtT8MmTvA2Ux   \n",
              "\n",
              "      playlist_genre  ... key  loudness  mode  speechiness  acousticness  \\\n",
              "0                pop  ...   6    -2.634     1       0.0583      0.102000   \n",
              "1                pop  ...  11    -4.969     1       0.0373      0.072400   \n",
              "2                pop  ...   1    -3.432     0       0.0742      0.079400   \n",
              "3                pop  ...   7    -3.778     1       0.1020      0.028700   \n",
              "4                pop  ...   1    -4.672     1       0.0359      0.080300   \n",
              "...              ...  ...  ..       ...   ...          ...           ...   \n",
              "32823            edm  ...   2    -1.814     1       0.0936      0.076600   \n",
              "32824            edm  ...   0    -4.462     1       0.0420      0.001710   \n",
              "32825            edm  ...   6    -4.899     0       0.0481      0.108000   \n",
              "32826            edm  ...   2    -3.361     1       0.1090      0.007920   \n",
              "32827            edm  ...   5    -4.571     0       0.0385      0.000133   \n",
              "\n",
              "       instrumentalness  liveness  valence    tempo  duration_ms  \n",
              "0              0.000000    0.0653   0.5180  122.036       194754  \n",
              "1              0.004210    0.3570   0.6930   99.972       162600  \n",
              "2              0.000023    0.1100   0.6130  124.008       176616  \n",
              "3              0.000009    0.2040   0.2770  121.956       169093  \n",
              "4              0.000000    0.0833   0.7250  123.976       189052  \n",
              "...                 ...       ...      ...      ...          ...  \n",
              "32823          0.000000    0.0668   0.2100  128.170       204375  \n",
              "32824          0.004270    0.3750   0.4000  128.041       353120  \n",
              "32825          0.000001    0.1500   0.4360  127.989       210112  \n",
              "32826          0.127000    0.3430   0.3080  128.008       367432  \n",
              "32827          0.341000    0.7420   0.0894  127.984       337500  \n",
              "\n",
              "[32828 rows x 23 columns]"
            ],
            "text/html": [
              "\n",
              "  <div id=\"df-b788962d-0d96-4352-9107-57fba3051321\" class=\"colab-df-container\">\n",
              "    <div>\n",
              "<style scoped>\n",
              "    .dataframe tbody tr th:only-of-type {\n",
              "        vertical-align: middle;\n",
              "    }\n",
              "\n",
              "    .dataframe tbody tr th {\n",
              "        vertical-align: top;\n",
              "    }\n",
              "\n",
              "    .dataframe thead th {\n",
              "        text-align: right;\n",
              "    }\n",
              "</style>\n",
              "<table border=\"1\" class=\"dataframe\">\n",
              "  <thead>\n",
              "    <tr style=\"text-align: right;\">\n",
              "      <th></th>\n",
              "      <th>track_id</th>\n",
              "      <th>track_name</th>\n",
              "      <th>track_artist</th>\n",
              "      <th>track_popularity</th>\n",
              "      <th>track_album_id</th>\n",
              "      <th>track_album_name</th>\n",
              "      <th>track_album_release_date</th>\n",
              "      <th>playlist_name</th>\n",
              "      <th>playlist_id</th>\n",
              "      <th>playlist_genre</th>\n",
              "      <th>...</th>\n",
              "      <th>key</th>\n",
              "      <th>loudness</th>\n",
              "      <th>mode</th>\n",
              "      <th>speechiness</th>\n",
              "      <th>acousticness</th>\n",
              "      <th>instrumentalness</th>\n",
              "      <th>liveness</th>\n",
              "      <th>valence</th>\n",
              "      <th>tempo</th>\n",
              "      <th>duration_ms</th>\n",
              "    </tr>\n",
              "  </thead>\n",
              "  <tbody>\n",
              "    <tr>\n",
              "      <th>0</th>\n",
              "      <td>6f807x0ima9a1j3VPbc7VN</td>\n",
              "      <td>I Don't Care (with Justin Bieber) - Loud Luxur...</td>\n",
              "      <td>Ed Sheeran</td>\n",
              "      <td>66</td>\n",
              "      <td>2oCs0DGTsRO98Gh5ZSl2Cx</td>\n",
              "      <td>I Don't Care (with Justin Bieber) [Loud Luxury...</td>\n",
              "      <td>2019-06-14</td>\n",
              "      <td>Pop Remix</td>\n",
              "      <td>37i9dQZF1DXcZDD7cfEKhW</td>\n",
              "      <td>pop</td>\n",
              "      <td>...</td>\n",
              "      <td>6</td>\n",
              "      <td>-2.634</td>\n",
              "      <td>1</td>\n",
              "      <td>0.0583</td>\n",
              "      <td>0.102000</td>\n",
              "      <td>0.000000</td>\n",
              "      <td>0.0653</td>\n",
              "      <td>0.5180</td>\n",
              "      <td>122.036</td>\n",
              "      <td>194754</td>\n",
              "    </tr>\n",
              "    <tr>\n",
              "      <th>1</th>\n",
              "      <td>0r7CVbZTWZgbTCYdfa2P31</td>\n",
              "      <td>Memories - Dillon Francis Remix</td>\n",
              "      <td>Maroon 5</td>\n",
              "      <td>67</td>\n",
              "      <td>63rPSO264uRjW1X5E6cWv6</td>\n",
              "      <td>Memories (Dillon Francis Remix)</td>\n",
              "      <td>2019-12-13</td>\n",
              "      <td>Pop Remix</td>\n",
              "      <td>37i9dQZF1DXcZDD7cfEKhW</td>\n",
              "      <td>pop</td>\n",
              "      <td>...</td>\n",
              "      <td>11</td>\n",
              "      <td>-4.969</td>\n",
              "      <td>1</td>\n",
              "      <td>0.0373</td>\n",
              "      <td>0.072400</td>\n",
              "      <td>0.004210</td>\n",
              "      <td>0.3570</td>\n",
              "      <td>0.6930</td>\n",
              "      <td>99.972</td>\n",
              "      <td>162600</td>\n",
              "    </tr>\n",
              "    <tr>\n",
              "      <th>2</th>\n",
              "      <td>1z1Hg7Vb0AhHDiEmnDE79l</td>\n",
              "      <td>All the Time - Don Diablo Remix</td>\n",
              "      <td>Zara Larsson</td>\n",
              "      <td>70</td>\n",
              "      <td>1HoSmj2eLcsrR0vE9gThr4</td>\n",
              "      <td>All the Time (Don Diablo Remix)</td>\n",
              "      <td>2019-07-05</td>\n",
              "      <td>Pop Remix</td>\n",
              "      <td>37i9dQZF1DXcZDD7cfEKhW</td>\n",
              "      <td>pop</td>\n",
              "      <td>...</td>\n",
              "      <td>1</td>\n",
              "      <td>-3.432</td>\n",
              "      <td>0</td>\n",
              "      <td>0.0742</td>\n",
              "      <td>0.079400</td>\n",
              "      <td>0.000023</td>\n",
              "      <td>0.1100</td>\n",
              "      <td>0.6130</td>\n",
              "      <td>124.008</td>\n",
              "      <td>176616</td>\n",
              "    </tr>\n",
              "    <tr>\n",
              "      <th>3</th>\n",
              "      <td>75FpbthrwQmzHlBJLuGdC7</td>\n",
              "      <td>Call You Mine - Keanu Silva Remix</td>\n",
              "      <td>The Chainsmokers</td>\n",
              "      <td>60</td>\n",
              "      <td>1nqYsOef1yKKuGOVchbsk6</td>\n",
              "      <td>Call You Mine - The Remixes</td>\n",
              "      <td>2019-07-19</td>\n",
              "      <td>Pop Remix</td>\n",
              "      <td>37i9dQZF1DXcZDD7cfEKhW</td>\n",
              "      <td>pop</td>\n",
              "      <td>...</td>\n",
              "      <td>7</td>\n",
              "      <td>-3.778</td>\n",
              "      <td>1</td>\n",
              "      <td>0.1020</td>\n",
              "      <td>0.028700</td>\n",
              "      <td>0.000009</td>\n",
              "      <td>0.2040</td>\n",
              "      <td>0.2770</td>\n",
              "      <td>121.956</td>\n",
              "      <td>169093</td>\n",
              "    </tr>\n",
              "    <tr>\n",
              "      <th>4</th>\n",
              "      <td>1e8PAfcKUYoKkxPhrHqw4x</td>\n",
              "      <td>Someone You Loved - Future Humans Remix</td>\n",
              "      <td>Lewis Capaldi</td>\n",
              "      <td>69</td>\n",
              "      <td>7m7vv9wlQ4i0LFuJiE2zsQ</td>\n",
              "      <td>Someone You Loved (Future Humans Remix)</td>\n",
              "      <td>2019-03-05</td>\n",
              "      <td>Pop Remix</td>\n",
              "      <td>37i9dQZF1DXcZDD7cfEKhW</td>\n",
              "      <td>pop</td>\n",
              "      <td>...</td>\n",
              "      <td>1</td>\n",
              "      <td>-4.672</td>\n",
              "      <td>1</td>\n",
              "      <td>0.0359</td>\n",
              "      <td>0.080300</td>\n",
              "      <td>0.000000</td>\n",
              "      <td>0.0833</td>\n",
              "      <td>0.7250</td>\n",
              "      <td>123.976</td>\n",
              "      <td>189052</td>\n",
              "    </tr>\n",
              "    <tr>\n",
              "      <th>...</th>\n",
              "      <td>...</td>\n",
              "      <td>...</td>\n",
              "      <td>...</td>\n",
              "      <td>...</td>\n",
              "      <td>...</td>\n",
              "      <td>...</td>\n",
              "      <td>...</td>\n",
              "      <td>...</td>\n",
              "      <td>...</td>\n",
              "      <td>...</td>\n",
              "      <td>...</td>\n",
              "      <td>...</td>\n",
              "      <td>...</td>\n",
              "      <td>...</td>\n",
              "      <td>...</td>\n",
              "      <td>...</td>\n",
              "      <td>...</td>\n",
              "      <td>...</td>\n",
              "      <td>...</td>\n",
              "      <td>...</td>\n",
              "      <td>...</td>\n",
              "    </tr>\n",
              "    <tr>\n",
              "      <th>32823</th>\n",
              "      <td>7bxnKAamR3snQ1VGLuVfC1</td>\n",
              "      <td>City Of Lights - Official Radio Edit</td>\n",
              "      <td>Lush &amp; Simon</td>\n",
              "      <td>42</td>\n",
              "      <td>2azRoBBWEEEYhqV6sb7JrT</td>\n",
              "      <td>City Of Lights (Vocal Mix)</td>\n",
              "      <td>2014-04-28</td>\n",
              "      <td>♥ EDM LOVE 2020</td>\n",
              "      <td>6jI1gFr6ANFtT8MmTvA2Ux</td>\n",
              "      <td>edm</td>\n",
              "      <td>...</td>\n",
              "      <td>2</td>\n",
              "      <td>-1.814</td>\n",
              "      <td>1</td>\n",
              "      <td>0.0936</td>\n",
              "      <td>0.076600</td>\n",
              "      <td>0.000000</td>\n",
              "      <td>0.0668</td>\n",
              "      <td>0.2100</td>\n",
              "      <td>128.170</td>\n",
              "      <td>204375</td>\n",
              "    </tr>\n",
              "    <tr>\n",
              "      <th>32824</th>\n",
              "      <td>5Aevni09Em4575077nkWHz</td>\n",
              "      <td>Closer - Sultan &amp; Ned Shepard Remix</td>\n",
              "      <td>Tegan and Sara</td>\n",
              "      <td>20</td>\n",
              "      <td>6kD6KLxj7s8eCE3ABvAyf5</td>\n",
              "      <td>Closer Remixed</td>\n",
              "      <td>2013-03-08</td>\n",
              "      <td>♥ EDM LOVE 2020</td>\n",
              "      <td>6jI1gFr6ANFtT8MmTvA2Ux</td>\n",
              "      <td>edm</td>\n",
              "      <td>...</td>\n",
              "      <td>0</td>\n",
              "      <td>-4.462</td>\n",
              "      <td>1</td>\n",
              "      <td>0.0420</td>\n",
              "      <td>0.001710</td>\n",
              "      <td>0.004270</td>\n",
              "      <td>0.3750</td>\n",
              "      <td>0.4000</td>\n",
              "      <td>128.041</td>\n",
              "      <td>353120</td>\n",
              "    </tr>\n",
              "    <tr>\n",
              "      <th>32825</th>\n",
              "      <td>7ImMqPP3Q1yfUHvsdn7wEo</td>\n",
              "      <td>Sweet Surrender - Radio Edit</td>\n",
              "      <td>Starkillers</td>\n",
              "      <td>14</td>\n",
              "      <td>0ltWNSY9JgxoIZO4VzuCa6</td>\n",
              "      <td>Sweet Surrender (Radio Edit)</td>\n",
              "      <td>2014-04-21</td>\n",
              "      <td>♥ EDM LOVE 2020</td>\n",
              "      <td>6jI1gFr6ANFtT8MmTvA2Ux</td>\n",
              "      <td>edm</td>\n",
              "      <td>...</td>\n",
              "      <td>6</td>\n",
              "      <td>-4.899</td>\n",
              "      <td>0</td>\n",
              "      <td>0.0481</td>\n",
              "      <td>0.108000</td>\n",
              "      <td>0.000001</td>\n",
              "      <td>0.1500</td>\n",
              "      <td>0.4360</td>\n",
              "      <td>127.989</td>\n",
              "      <td>210112</td>\n",
              "    </tr>\n",
              "    <tr>\n",
              "      <th>32826</th>\n",
              "      <td>2m69mhnfQ1Oq6lGtXuYhgX</td>\n",
              "      <td>Only For You - Maor Levi Remix</td>\n",
              "      <td>Mat Zo</td>\n",
              "      <td>15</td>\n",
              "      <td>1fGrOkHnHJcStl14zNx8Jy</td>\n",
              "      <td>Only For You (Remixes)</td>\n",
              "      <td>2014-01-01</td>\n",
              "      <td>♥ EDM LOVE 2020</td>\n",
              "      <td>6jI1gFr6ANFtT8MmTvA2Ux</td>\n",
              "      <td>edm</td>\n",
              "      <td>...</td>\n",
              "      <td>2</td>\n",
              "      <td>-3.361</td>\n",
              "      <td>1</td>\n",
              "      <td>0.1090</td>\n",
              "      <td>0.007920</td>\n",
              "      <td>0.127000</td>\n",
              "      <td>0.3430</td>\n",
              "      <td>0.3080</td>\n",
              "      <td>128.008</td>\n",
              "      <td>367432</td>\n",
              "    </tr>\n",
              "    <tr>\n",
              "      <th>32827</th>\n",
              "      <td>29zWqhca3zt5NsckZqDf6c</td>\n",
              "      <td>Typhoon - Original Mix</td>\n",
              "      <td>Julian Calor</td>\n",
              "      <td>27</td>\n",
              "      <td>0X3mUOm6MhxR7PzxG95rAo</td>\n",
              "      <td>Typhoon/Storm</td>\n",
              "      <td>2014-03-03</td>\n",
              "      <td>♥ EDM LOVE 2020</td>\n",
              "      <td>6jI1gFr6ANFtT8MmTvA2Ux</td>\n",
              "      <td>edm</td>\n",
              "      <td>...</td>\n",
              "      <td>5</td>\n",
              "      <td>-4.571</td>\n",
              "      <td>0</td>\n",
              "      <td>0.0385</td>\n",
              "      <td>0.000133</td>\n",
              "      <td>0.341000</td>\n",
              "      <td>0.7420</td>\n",
              "      <td>0.0894</td>\n",
              "      <td>127.984</td>\n",
              "      <td>337500</td>\n",
              "    </tr>\n",
              "  </tbody>\n",
              "</table>\n",
              "<p>32828 rows × 23 columns</p>\n",
              "</div>\n",
              "    <div class=\"colab-df-buttons\">\n",
              "\n",
              "  <div class=\"colab-df-container\">\n",
              "    <button class=\"colab-df-convert\" onclick=\"convertToInteractive('df-b788962d-0d96-4352-9107-57fba3051321')\"\n",
              "            title=\"Convert this dataframe to an interactive table.\"\n",
              "            style=\"display:none;\">\n",
              "\n",
              "  <svg xmlns=\"http://www.w3.org/2000/svg\" height=\"24px\" viewBox=\"0 -960 960 960\">\n",
              "    <path d=\"M120-120v-720h720v720H120Zm60-500h600v-160H180v160Zm220 220h160v-160H400v160Zm0 220h160v-160H400v160ZM180-400h160v-160H180v160Zm440 0h160v-160H620v160ZM180-180h160v-160H180v160Zm440 0h160v-160H620v160Z\"/>\n",
              "  </svg>\n",
              "    </button>\n",
              "\n",
              "  <style>\n",
              "    .colab-df-container {\n",
              "      display:flex;\n",
              "      gap: 12px;\n",
              "    }\n",
              "\n",
              "    .colab-df-convert {\n",
              "      background-color: #E8F0FE;\n",
              "      border: none;\n",
              "      border-radius: 50%;\n",
              "      cursor: pointer;\n",
              "      display: none;\n",
              "      fill: #1967D2;\n",
              "      height: 32px;\n",
              "      padding: 0 0 0 0;\n",
              "      width: 32px;\n",
              "    }\n",
              "\n",
              "    .colab-df-convert:hover {\n",
              "      background-color: #E2EBFA;\n",
              "      box-shadow: 0px 1px 2px rgba(60, 64, 67, 0.3), 0px 1px 3px 1px rgba(60, 64, 67, 0.15);\n",
              "      fill: #174EA6;\n",
              "    }\n",
              "\n",
              "    .colab-df-buttons div {\n",
              "      margin-bottom: 4px;\n",
              "    }\n",
              "\n",
              "    [theme=dark] .colab-df-convert {\n",
              "      background-color: #3B4455;\n",
              "      fill: #D2E3FC;\n",
              "    }\n",
              "\n",
              "    [theme=dark] .colab-df-convert:hover {\n",
              "      background-color: #434B5C;\n",
              "      box-shadow: 0px 1px 3px 1px rgba(0, 0, 0, 0.15);\n",
              "      filter: drop-shadow(0px 1px 2px rgba(0, 0, 0, 0.3));\n",
              "      fill: #FFFFFF;\n",
              "    }\n",
              "  </style>\n",
              "\n",
              "    <script>\n",
              "      const buttonEl =\n",
              "        document.querySelector('#df-b788962d-0d96-4352-9107-57fba3051321 button.colab-df-convert');\n",
              "      buttonEl.style.display =\n",
              "        google.colab.kernel.accessAllowed ? 'block' : 'none';\n",
              "\n",
              "      async function convertToInteractive(key) {\n",
              "        const element = document.querySelector('#df-b788962d-0d96-4352-9107-57fba3051321');\n",
              "        const dataTable =\n",
              "          await google.colab.kernel.invokeFunction('convertToInteractive',\n",
              "                                                    [key], {});\n",
              "        if (!dataTable) return;\n",
              "\n",
              "        const docLinkHtml = 'Like what you see? Visit the ' +\n",
              "          '<a target=\"_blank\" href=https://colab.research.google.com/notebooks/data_table.ipynb>data table notebook</a>'\n",
              "          + ' to learn more about interactive tables.';\n",
              "        element.innerHTML = '';\n",
              "        dataTable['output_type'] = 'display_data';\n",
              "        await google.colab.output.renderOutput(dataTable, element);\n",
              "        const docLink = document.createElement('div');\n",
              "        docLink.innerHTML = docLinkHtml;\n",
              "        element.appendChild(docLink);\n",
              "      }\n",
              "    </script>\n",
              "  </div>\n",
              "\n",
              "\n",
              "<div id=\"df-e403e7aa-abe4-4552-9891-4af9903ce70a\">\n",
              "  <button class=\"colab-df-quickchart\" onclick=\"quickchart('df-e403e7aa-abe4-4552-9891-4af9903ce70a')\"\n",
              "            title=\"Suggest charts\"\n",
              "            style=\"display:none;\">\n",
              "\n",
              "<svg xmlns=\"http://www.w3.org/2000/svg\" height=\"24px\"viewBox=\"0 0 24 24\"\n",
              "     width=\"24px\">\n",
              "    <g>\n",
              "        <path d=\"M19 3H5c-1.1 0-2 .9-2 2v14c0 1.1.9 2 2 2h14c1.1 0 2-.9 2-2V5c0-1.1-.9-2-2-2zM9 17H7v-7h2v7zm4 0h-2V7h2v10zm4 0h-2v-4h2v4z\"/>\n",
              "    </g>\n",
              "</svg>\n",
              "  </button>\n",
              "\n",
              "<style>\n",
              "  .colab-df-quickchart {\n",
              "      --bg-color: #E8F0FE;\n",
              "      --fill-color: #1967D2;\n",
              "      --hover-bg-color: #E2EBFA;\n",
              "      --hover-fill-color: #174EA6;\n",
              "      --disabled-fill-color: #AAA;\n",
              "      --disabled-bg-color: #DDD;\n",
              "  }\n",
              "\n",
              "  [theme=dark] .colab-df-quickchart {\n",
              "      --bg-color: #3B4455;\n",
              "      --fill-color: #D2E3FC;\n",
              "      --hover-bg-color: #434B5C;\n",
              "      --hover-fill-color: #FFFFFF;\n",
              "      --disabled-bg-color: #3B4455;\n",
              "      --disabled-fill-color: #666;\n",
              "  }\n",
              "\n",
              "  .colab-df-quickchart {\n",
              "    background-color: var(--bg-color);\n",
              "    border: none;\n",
              "    border-radius: 50%;\n",
              "    cursor: pointer;\n",
              "    display: none;\n",
              "    fill: var(--fill-color);\n",
              "    height: 32px;\n",
              "    padding: 0;\n",
              "    width: 32px;\n",
              "  }\n",
              "\n",
              "  .colab-df-quickchart:hover {\n",
              "    background-color: var(--hover-bg-color);\n",
              "    box-shadow: 0 1px 2px rgba(60, 64, 67, 0.3), 0 1px 3px 1px rgba(60, 64, 67, 0.15);\n",
              "    fill: var(--button-hover-fill-color);\n",
              "  }\n",
              "\n",
              "  .colab-df-quickchart-complete:disabled,\n",
              "  .colab-df-quickchart-complete:disabled:hover {\n",
              "    background-color: var(--disabled-bg-color);\n",
              "    fill: var(--disabled-fill-color);\n",
              "    box-shadow: none;\n",
              "  }\n",
              "\n",
              "  .colab-df-spinner {\n",
              "    border: 2px solid var(--fill-color);\n",
              "    border-color: transparent;\n",
              "    border-bottom-color: var(--fill-color);\n",
              "    animation:\n",
              "      spin 1s steps(1) infinite;\n",
              "  }\n",
              "\n",
              "  @keyframes spin {\n",
              "    0% {\n",
              "      border-color: transparent;\n",
              "      border-bottom-color: var(--fill-color);\n",
              "      border-left-color: var(--fill-color);\n",
              "    }\n",
              "    20% {\n",
              "      border-color: transparent;\n",
              "      border-left-color: var(--fill-color);\n",
              "      border-top-color: var(--fill-color);\n",
              "    }\n",
              "    30% {\n",
              "      border-color: transparent;\n",
              "      border-left-color: var(--fill-color);\n",
              "      border-top-color: var(--fill-color);\n",
              "      border-right-color: var(--fill-color);\n",
              "    }\n",
              "    40% {\n",
              "      border-color: transparent;\n",
              "      border-right-color: var(--fill-color);\n",
              "      border-top-color: var(--fill-color);\n",
              "    }\n",
              "    60% {\n",
              "      border-color: transparent;\n",
              "      border-right-color: var(--fill-color);\n",
              "    }\n",
              "    80% {\n",
              "      border-color: transparent;\n",
              "      border-right-color: var(--fill-color);\n",
              "      border-bottom-color: var(--fill-color);\n",
              "    }\n",
              "    90% {\n",
              "      border-color: transparent;\n",
              "      border-bottom-color: var(--fill-color);\n",
              "    }\n",
              "  }\n",
              "</style>\n",
              "\n",
              "  <script>\n",
              "    async function quickchart(key) {\n",
              "      const quickchartButtonEl =\n",
              "        document.querySelector('#' + key + ' button');\n",
              "      quickchartButtonEl.disabled = true;  // To prevent multiple clicks.\n",
              "      quickchartButtonEl.classList.add('colab-df-spinner');\n",
              "      try {\n",
              "        const charts = await google.colab.kernel.invokeFunction(\n",
              "            'suggestCharts', [key], {});\n",
              "      } catch (error) {\n",
              "        console.error('Error during call to suggestCharts:', error);\n",
              "      }\n",
              "      quickchartButtonEl.classList.remove('colab-df-spinner');\n",
              "      quickchartButtonEl.classList.add('colab-df-quickchart-complete');\n",
              "    }\n",
              "    (() => {\n",
              "      let quickchartButtonEl =\n",
              "        document.querySelector('#df-e403e7aa-abe4-4552-9891-4af9903ce70a button');\n",
              "      quickchartButtonEl.style.display =\n",
              "        google.colab.kernel.accessAllowed ? 'block' : 'none';\n",
              "    })();\n",
              "  </script>\n",
              "</div>\n",
              "    </div>\n",
              "  </div>\n"
            ]
          },
          "metadata": {},
          "execution_count": 69
        }
      ],
      "source": [
        "spotify = pd.read_csv('https://raw.githubusercontent.com/rfordatascience/tidytuesday/master/data/2020/2020-01-21/spotify_songs.csv')\n",
        "spotify = spotify.dropna()\n",
        "spotify.reset_index(drop=True)"
      ]
    },
    {
      "cell_type": "code",
      "execution_count": 70,
      "id": "46dc787e",
      "metadata": {
        "id": "46dc787e"
      },
      "outputs": [],
      "source": [
        "X = spotify[['track_popularity','danceability', 'energy', 'key', 'loudness', 'mode', 'speechiness', 'acousticness', 'instrumentalness', 'liveness', 'valence', 'tempo', 'duration_ms']]\n",
        "y = spotify['playlist_genre']"
      ]
    },
    {
      "cell_type": "code",
      "source": [
        "encoder = LabelEncoder()\n",
        "y = encoder.fit_transform(y)\n",
        "\n",
        "one_hot_encoder = OneHotEncoder(sparse=False)\n",
        "y = y_encoded.reshape(len(y), 1)\n",
        "y = one_hot_encoder.fit_transform(y)\n",
        "\n",
        "# standard scaling X\n",
        "scaler = StandardScaler()\n",
        "X = scaler.fit_transform(X)"
      ],
      "metadata": {
        "id": "Pb2uVWGcS29d"
      },
      "id": "Pb2uVWGcS29d",
      "execution_count": 71,
      "outputs": []
    },
    {
      "cell_type": "code",
      "execution_count": 72,
      "id": "c637fa25",
      "metadata": {
        "colab": {
          "base_uri": "https://localhost:8080/"
        },
        "id": "c637fa25",
        "outputId": "8b1e76b4-d1e4-42d1-849b-ffe3520545c6"
      },
      "outputs": [
        {
          "output_type": "execute_result",
          "data": {
            "text/plain": [
              "array([ 3813, 11929, 14076, ..., 26575, 31225, 31768])"
            ]
          },
          "metadata": {},
          "execution_count": 72
        }
      ],
      "source": [
        "ind = np.arange(0,X.shape[0])\n",
        "np.random.shuffle(ind)\n",
        "ind"
      ]
    },
    {
      "cell_type": "code",
      "execution_count": 73,
      "id": "b740a03d",
      "metadata": {
        "id": "b740a03d"
      },
      "outputs": [],
      "source": [
        "size = int(len(ind)*0.70)\n",
        "ind_1 = ind[0:size]\n",
        "ind_2 = ind[size:]"
      ]
    },
    {
      "cell_type": "code",
      "execution_count": 74,
      "id": "ef3e57fd",
      "metadata": {
        "colab": {
          "base_uri": "https://localhost:8080/"
        },
        "id": "ef3e57fd",
        "outputId": "b367668b-d547-4b59-e61b-adcee7aa7415"
      },
      "outputs": [
        {
          "output_type": "execute_result",
          "data": {
            "text/plain": [
              "array([[ 1.14156686,  0.09063106,  0.10721939, ..., -0.71008931,\n",
              "        -1.07387292, -0.56148581],\n",
              "       [ 0.06070631,  0.16644631,  0.83685158, ...,  1.33582171,\n",
              "         0.505752  ,  2.79838797],\n",
              "       [ 0.02067444, -0.57102931,  0.19013214, ...,  0.67100786,\n",
              "         0.56897863,  0.44682729],\n",
              "       ...,\n",
              "       [ 1.46182184,  1.17272146, -0.58372018, ...,  0.12628941,\n",
              "        -0.84769183, -0.2680985 ],\n",
              "       [ 0.62115252, -1.08105917, -2.24750267, ..., -0.69722195,\n",
              "        -1.92990421,  0.91567875],\n",
              "       [ 1.62194932,  1.13825998, -1.36310002, ...,  0.98411374,\n",
              "        -0.12945072,  0.47000747]])"
            ]
          },
          "metadata": {},
          "execution_count": 74
        }
      ],
      "source": [
        "# For dataset D1\n",
        "d1_X = X[ind_1]\n",
        "d1_X"
      ]
    },
    {
      "cell_type": "code",
      "execution_count": 75,
      "id": "19facc97",
      "metadata": {
        "colab": {
          "base_uri": "https://localhost:8080/"
        },
        "id": "19facc97",
        "outputId": "0aa75f21-a8ef-44b0-8070-608b6c1b6d3e"
      },
      "outputs": [
        {
          "output_type": "execute_result",
          "data": {
            "text/plain": [
              "array([[0., 0., 1., 0., 0., 0.],\n",
              "       [0., 0., 0., 0., 0., 1.],\n",
              "       [0., 0., 0., 0., 0., 1.],\n",
              "       ...,\n",
              "       [0., 0., 0., 1., 0., 0.],\n",
              "       [0., 0., 0., 1., 0., 0.],\n",
              "       [0., 0., 0., 0., 0., 1.]])"
            ]
          },
          "metadata": {},
          "execution_count": 75
        }
      ],
      "source": [
        "# For dataset D1\n",
        "d1_y = y[ind_1]\n",
        "d1_y"
      ]
    },
    {
      "cell_type": "code",
      "execution_count": 76,
      "id": "5b9794e2",
      "metadata": {
        "colab": {
          "base_uri": "https://localhost:8080/"
        },
        "id": "5b9794e2",
        "outputId": "d3501029-ec73-49f1-e66c-946f6a62d728"
      },
      "outputs": [
        {
          "output_type": "execute_result",
          "data": {
            "text/plain": [
              "array([[ 0.58112065, -1.17065902, -1.32993492, ..., -1.75234587,\n",
              "        -1.57325548,  0.83263452],\n",
              "       [-0.29958054, -0.12992239,  0.39465025, ..., -0.28975539,\n",
              "        -0.10577326, -0.4914773 ],\n",
              "       [ 1.58191745, -0.70887522,  0.05747174, ...,  0.07481995,\n",
              "        -0.1227229 , -1.14665603],\n",
              "       ...,\n",
              "       [-1.6606642 , -0.06789174, -0.4234222 , ..., -0.57283742,\n",
              "        -1.25812594,  0.7081768 ],\n",
              "       [-1.6606642 ,  0.10441565,  0.32832005, ..., -1.50786594,\n",
              "         0.04149534, -0.33374506],\n",
              "       [-1.70069607, -0.37115274,  1.39513075, ...,  1.96203347,\n",
              "         0.26299298, -0.77321602]])"
            ]
          },
          "metadata": {},
          "execution_count": 76
        }
      ],
      "source": [
        "# For dataset D2\n",
        "d2_X = X[ind_2]\n",
        "d2_X"
      ]
    },
    {
      "cell_type": "code",
      "execution_count": 77,
      "id": "1bdbceb5",
      "metadata": {
        "colab": {
          "base_uri": "https://localhost:8080/"
        },
        "id": "1bdbceb5",
        "outputId": "23003da9-2d00-4daf-ed3f-28bb98263874"
      },
      "outputs": [
        {
          "output_type": "execute_result",
          "data": {
            "text/plain": [
              "array([[0., 0., 0., 1., 0., 0.],\n",
              "       [0., 1., 0., 0., 0., 0.],\n",
              "       [1., 0., 0., 0., 0., 0.],\n",
              "       ...,\n",
              "       [0., 0., 0., 1., 0., 0.],\n",
              "       [1., 0., 0., 0., 0., 0.],\n",
              "       [1., 0., 0., 0., 0., 0.]])"
            ]
          },
          "metadata": {},
          "execution_count": 77
        }
      ],
      "source": [
        "# For dataset D2\n",
        "d2_y = y[ind_2]\n",
        "d2_y"
      ]
    },
    {
      "cell_type": "code",
      "execution_count": 34,
      "id": "cb7c1216",
      "metadata": {
        "id": "cb7c1216"
      },
      "outputs": [],
      "source": [
        "# Let's perform the test for the first variable - track_popularity"
      ]
    },
    {
      "cell_type": "markdown",
      "id": "14148540",
      "metadata": {
        "id": "14148540"
      },
      "source": [
        "- The objective of the hypothesis is to check whether adding the variable track_popularity to the model is adding significance.\n",
        "- H0 : E[ Y | X_j ] = E[ Y|Xj , X_j]\n",
        "- H1 : E[ Y | X_j ] != E[ Y|Xj , X_j ]\n",
        "\n",
        "- A lower p-value indicates that null hypothesis can be rejected and that the variable is considered to be important and therefore has an impact on the conditional expectation of Y.\n",
        "\n",
        "![image.png](data:image/png;base64,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)"
      ]
    },
    {
      "cell_type": "code",
      "execution_count": 78,
      "id": "eb18e07d",
      "metadata": {
        "colab": {
          "base_uri": "https://localhost:8080/"
        },
        "id": "eb18e07d",
        "outputId": "612b6be0-58f1-481e-91bc-b33a90f62799"
      },
      "outputs": [
        {
          "output_type": "execute_result",
          "data": {
            "text/plain": [
              "array([[ 1.14156686,  0.09063106,  0.10721939, ..., -0.71008931,\n",
              "        -1.07387292, -0.56148581],\n",
              "       [ 0.06070631,  0.16644631,  0.83685158, ...,  1.33582171,\n",
              "         0.505752  ,  2.79838797],\n",
              "       [ 0.02067444, -0.57102931,  0.19013214, ...,  0.67100786,\n",
              "         0.56897863,  0.44682729],\n",
              "       ...,\n",
              "       [ 1.46182184,  1.17272146, -0.58372018, ...,  0.12628941,\n",
              "        -0.84769183, -0.2680985 ],\n",
              "       [ 0.62115252, -1.08105917, -2.24750267, ..., -0.69722195,\n",
              "        -1.92990421,  0.91567875],\n",
              "       [ 1.62194932,  1.13825998, -1.36310002, ...,  0.98411374,\n",
              "        -0.12945072,  0.47000747]])"
            ]
          },
          "metadata": {},
          "execution_count": 78
        }
      ],
      "source": [
        "# Preparing data for model f using all variables\n",
        "model1_d1 = d1_X[:,:]\n",
        "model1_d1"
      ]
    },
    {
      "cell_type": "code",
      "source": [
        "# Preparing data for model g without the track_popularity column\n",
        "model2_d1 = d1_X[:,1:]\n",
        "model2_d1"
      ],
      "metadata": {
        "colab": {
          "base_uri": "https://localhost:8080/"
        },
        "id": "KHUrPC8yTXoA",
        "outputId": "9c5d76ed-8fa9-4e33-f81a-fbbc93e9220b"
      },
      "id": "KHUrPC8yTXoA",
      "execution_count": 79,
      "outputs": [
        {
          "output_type": "execute_result",
          "data": {
            "text/plain": [
              "array([[ 0.09063106,  0.10721939, -1.21111132, ..., -0.71008931,\n",
              "        -1.07387292, -0.56148581],\n",
              "       [ 0.16644631,  0.83685158,  1.55780825, ...,  1.33582171,\n",
              "         0.505752  ,  2.79838797],\n",
              "       [-0.57102931,  0.19013214, -1.48800328, ...,  0.67100786,\n",
              "         0.56897863,  0.44682729],\n",
              "       ...,\n",
              "       [ 1.17272146, -0.58372018,  0.17334847, ...,  0.12628941,\n",
              "        -0.84769183, -0.2680985 ],\n",
              "       [-1.08105917, -2.24750267, -0.10354349, ..., -0.69722195,\n",
              "        -1.92990421,  0.91567875],\n",
              "       [ 1.13825998, -1.36310002, -1.21111132, ...,  0.98411374,\n",
              "        -0.12945072,  0.47000747]])"
            ]
          },
          "metadata": {},
          "execution_count": 79
        }
      ]
    },
    {
      "cell_type": "code",
      "execution_count": 80,
      "id": "f109b551",
      "metadata": {
        "id": "f109b551"
      },
      "outputs": [],
      "source": [
        "# Converting into tensors for model training\n",
        "model1_d1 = torch.tensor(model1_d1, dtype=torch.float32)\n",
        "d1_y = torch.tensor(d1_y, dtype=torch.float)"
      ]
    },
    {
      "cell_type": "code",
      "execution_count": 81,
      "id": "6d479b42",
      "metadata": {
        "id": "6d479b42"
      },
      "outputs": [],
      "source": [
        "# Converting into tensors for model training\n",
        "model2_d1 = torch.tensor(model2_d1, dtype=torch.float32)\n",
        "d1_y = torch.tensor(d1_y, dtype=torch.float)"
      ]
    },
    {
      "cell_type": "markdown",
      "source": [
        "**Step 1**"
      ],
      "metadata": {
        "id": "GfwXSjH1v_dG"
      },
      "id": "GfwXSjH1v_dG"
    },
    {
      "cell_type": "code",
      "execution_count": 82,
      "id": "73ec7df2",
      "metadata": {
        "colab": {
          "base_uri": "https://localhost:8080/"
        },
        "id": "73ec7df2",
        "outputId": "722fbfb7-d7fb-49cf-fcbd-0f9b9027161d"
      },
      "outputs": [
        {
          "output_type": "stream",
          "name": "stdout",
          "text": [
            "epoch:  0 loss: 1.52\n",
            "epoch:  10 loss: 1.69\n",
            "epoch:  20 loss: 1.71\n",
            "epoch:  30 loss: 1.76\n",
            "epoch:  40 loss: 1.72\n"
          ]
        }
      ],
      "source": [
        "# Training model f or 1\n",
        "\n",
        "# Convert data to DataLoader\n",
        "train_dataset = TensorDataset(model1_d1, d1_y)\n",
        "train_loader = DataLoader(train_dataset, batch_size=32, shuffle=True)\n",
        "\n",
        "# Instantiate the model\n",
        "input_size = model1_d1.shape[1]\n",
        "hidden_size = [128,128,128]\n",
        "output_size = len(spotify['playlist_genre'].unique())\n",
        "model1 = SpotifyNet(input_size, hidden_size, output_size)\n",
        "\n",
        "lr = 0.0001\n",
        "epochs = 50\n",
        "\n",
        "optimizer = optim.AdamW(model1.parameters(), lr=lr)\n",
        "\n",
        "model1.train()\n",
        "for epoch in range(epochs):\n",
        "\n",
        "    for x_batch, y_batch in train_loader:\n",
        "        y_pred = model1(x_batch)\n",
        "\n",
        "        loss = model1.loss_fn(y_batch, y_pred)\n",
        "\n",
        "        optimizer.zero_grad()\n",
        "        loss.backward()\n",
        "        optimizer.step()\n",
        "\n",
        "    if epoch % 10 == 0:\n",
        "        print('epoch: ', epoch, 'loss:', f\"{loss.item():.3}\")"
      ]
    },
    {
      "cell_type": "code",
      "execution_count": 83,
      "id": "cb9cc490",
      "metadata": {
        "colab": {
          "base_uri": "https://localhost:8080/"
        },
        "id": "cb9cc490",
        "outputId": "8bc75785-6020-47ce-f292-720463ab7b11"
      },
      "outputs": [
        {
          "output_type": "stream",
          "name": "stdout",
          "text": [
            "epoch:  0 loss: 1.63\n",
            "epoch:  10 loss: 1.37\n",
            "epoch:  20 loss: 1.83\n",
            "epoch:  30 loss: 1.5\n",
            "epoch:  40 loss: 1.13\n"
          ]
        }
      ],
      "source": [
        "# Training model g or 2\n",
        "\n",
        "# Convert data to DataLoader\n",
        "train_dataset = TensorDataset(model2_d1, d1_y)\n",
        "train_loader = DataLoader(train_dataset, batch_size=32, shuffle=True)\n",
        "\n",
        "# Instantiate the model\n",
        "input_size = model2_d1.shape[1]\n",
        "hidden_size = [128,128,128]\n",
        "output_size = len(spotify['playlist_genre'].unique())\n",
        "model2 = SpotifyNet(input_size, hidden_size, output_size)\n",
        "\n",
        "\n",
        "lr = 0.0001\n",
        "epochs = 50\n",
        "\n",
        "optimizer = optim.AdamW(model2.parameters(), lr=lr)\n",
        "\n",
        "model2.train()\n",
        "for epoch in range(epochs):\n",
        "\n",
        "    for x_batch, y_batch in train_loader:\n",
        "        y_pred = model2(x_batch)\n",
        "\n",
        "        loss = model2.loss_fn(y_batch, y_pred)\n",
        "\n",
        "        optimizer.zero_grad()\n",
        "        loss.backward()\n",
        "        optimizer.step()\n",
        "\n",
        "    if epoch % 10 == 0:\n",
        "        print('epoch: ', epoch, 'loss:', f\"{loss.item():.3}\")"
      ]
    },
    {
      "cell_type": "code",
      "execution_count": 84,
      "id": "06c5d0f8",
      "metadata": {
        "id": "06c5d0f8"
      },
      "outputs": [],
      "source": [
        "## Preparing D2 for calculating zi and zi_\n",
        "model1_d2 = d2_X[:,:]\n",
        "model2_d2 = d2_X[:,1:]\n",
        "\n",
        "model1_d2 = torch.tensor(model1_d2, dtype=torch.float32)\n",
        "model2_d2 = torch.tensor(model2_d2, dtype=torch.float32)\n",
        "\n",
        "d2_y = torch.tensor(d2_y, dtype=torch.float)"
      ]
    },
    {
      "cell_type": "markdown",
      "source": [
        "Step 2"
      ],
      "metadata": {
        "id": "vSsKJMUEyBxn"
      },
      "id": "vSsKJMUEyBxn"
    },
    {
      "cell_type": "code",
      "execution_count": 85,
      "id": "d22871b5",
      "metadata": {
        "id": "d22871b5"
      },
      "outputs": [],
      "source": [
        "output1_d2 = model1(model1_d2)"
      ]
    },
    {
      "cell_type": "code",
      "execution_count": 86,
      "id": "ec8c8af7",
      "metadata": {
        "id": "ec8c8af7"
      },
      "outputs": [],
      "source": [
        "output2_d2 = model2(model2_d2)"
      ]
    },
    {
      "cell_type": "code",
      "execution_count": 87,
      "id": "29f5fe58",
      "metadata": {
        "id": "29f5fe58"
      },
      "outputs": [],
      "source": [
        "zi = []\n",
        "for i in range(d2_y.shape[0]):\n",
        "    zi.append(F.cross_entropy(output1_d2[i],d2_y[i]).item())"
      ]
    },
    {
      "cell_type": "code",
      "execution_count": 88,
      "id": "f7c5b761",
      "metadata": {
        "id": "f7c5b761"
      },
      "outputs": [],
      "source": [
        "zi_ = []\n",
        "for i in range(d2_y.shape[0]):\n",
        "    zi_.append(F.cross_entropy(output2_d2[i],d2_y[i]).item())"
      ]
    },
    {
      "cell_type": "code",
      "execution_count": 89,
      "id": "8619fb9b",
      "metadata": {
        "id": "8619fb9b"
      },
      "outputs": [],
      "source": [
        "zi = np.array(zi)"
      ]
    },
    {
      "cell_type": "code",
      "execution_count": 90,
      "id": "5764774b",
      "metadata": {
        "id": "5764774b"
      },
      "outputs": [],
      "source": [
        "zi_ = np.array(zi_)"
      ]
    },
    {
      "cell_type": "markdown",
      "source": [
        "**Step 3**"
      ],
      "metadata": {
        "id": "nni0HOgfyMSY"
      },
      "id": "nni0HOgfyMSY"
    },
    {
      "cell_type": "code",
      "execution_count": 91,
      "id": "ce07a7fd",
      "metadata": {
        "colab": {
          "base_uri": "https://localhost:8080/"
        },
        "id": "ce07a7fd",
        "outputId": "22d9982e-9035-487d-e1c0-91c445218a0c"
      },
      "outputs": [
        {
          "output_type": "execute_result",
          "data": {
            "text/plain": [
              "-0.007289410835716952"
            ]
          },
          "metadata": {},
          "execution_count": 91
        }
      ],
      "source": [
        "tstat_obs = (zi - zi_).mean()\n",
        "tstat_obs"
      ]
    },
    {
      "cell_type": "code",
      "execution_count": 92,
      "id": "cb39f7a7",
      "metadata": {
        "id": "cb39f7a7"
      },
      "outputs": [],
      "source": [
        "tstat_calc = []\n",
        "\n",
        "for B in range(5000): # Can further be increased to have a higher power for the hypothesis test\n",
        "    diff = []\n",
        "    for i in range(len(zi)):\n",
        "        if np.random.randint(0,2) == 0:\n",
        "            diff.append(zi[i] - zi_[i])\n",
        "        else:\n",
        "            diff.append(zi_[i] - zi[i])\n",
        "\n",
        "    tstat = np.array(diff).mean()\n",
        "    tstat_calc.append(tstat)"
      ]
    },
    {
      "cell_type": "code",
      "source": [
        "p_value = sum([1 for t in tstat_calc if t <= tstat_obs]) / 5000\n",
        "\n",
        "print(f\"Observed test statistic: {tstat_obs:.4f}\")\n",
        "print(f\"P-Value: {p_value:.4f}\")"
      ],
      "metadata": {
        "colab": {
          "base_uri": "https://localhost:8080/"
        },
        "id": "RYSoUgcjjOGC",
        "outputId": "d5c9f5b9-edd4-4fea-9bc1-e635dce57f98"
      },
      "id": "RYSoUgcjjOGC",
      "execution_count": 93,
      "outputs": [
        {
          "output_type": "stream",
          "name": "stdout",
          "text": [
            "Observed test statistic: -0.0073\n",
            "P-Value: 0.0010\n"
          ]
        }
      ]
    },
    {
      "cell_type": "code",
      "execution_count": 94,
      "id": "51016b7f",
      "metadata": {
        "colab": {
          "base_uri": "https://localhost:8080/",
          "height": 452
        },
        "id": "51016b7f",
        "outputId": "62bf7d4e-9aa2-46ba-c95e-1d8a7ccf9240"
      },
      "outputs": [
        {
          "output_type": "display_data",
          "data": {
            "text/plain": [
              "<Figure size 640x480 with 1 Axes>"
            ],
            "image/png": "[encoded data removed]"
          },
          "metadata": {}
        }
      ],
      "source": [
        "plt.hist(tstat_calc)\n",
        "plt.axvline(tstat_obs, color='k', linestyle='dashed', linewidth=1)\n",
        "plt.title('Null Distribution')\n",
        "plt.show()"
      ]
    },
    {
      "cell_type": "markdown",
      "source": [
        "The p-value is super low(0.0010) which is less than alpha(0.05) and with B = 5000, we can reject the null hypothesis and conclude that the variable 'track_popularity' does have statistical significance on the conditional expectation of Y."
      ],
      "metadata": {
        "id": "CcWS95XGz_hQ"
      },
      "id": "CcWS95XGz_hQ"
    }
  ],
  "metadata": {
    "kernelspec": {
      "display_name": "Python 3",
      "name": "python3"
    },
    "language_info": {
      "codemirror_mode": {
        "name": "ipython",
        "version": 3
      },
      "file_extension": ".py",
      "mimetype": "text/x-python",
      "name": "python",
      "nbconvert_exporter": "python",
      "pygments_lexer": "ipython3",
      "version": "3.10.8"
    },
    "colab": {
      "provenance": [],
      "gpuType": "T4"
    },
    "accelerator": "GPU"
  },
  "nbformat": 4,
  "nbformat_minor": 5
}